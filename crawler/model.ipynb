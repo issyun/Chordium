{
 "cells": [
  {
   "cell_type": "code",
   "execution_count": 117,
   "metadata": {},
   "outputs": [],
   "source": [
    "import random\n",
    "import numpy as np\n",
    "import pandas as pd\n",
    "import torch\n",
    "import torch.nn as nn\n",
    "import torch.nn.functional as F"
   ]
  },
  {
   "cell_type": "code",
   "execution_count": 92,
   "metadata": {},
   "outputs": [],
   "source": [
    "csv = pd.read_csv('./converted/2000_converted_relative.csv')\n",
    "data = []\n",
    "for i in range(len(csv)):\n",
    "    row = csv.iloc[i]\n",
    "    if isinstance(row[3], float): continue # skip if no chords\n",
    "    raw_chords = row[3].split()\n",
    "    if len(raw_chords) < 6: continue # skip if chords shorter than 6\n",
    "    chords = ''\n",
    "    for chord in raw_chords:\n",
    "        chords += ' ' + ('maj-' if row[2] == 0 else 'min-')\n",
    "        chords += chord\n",
    "    data.append(chords)"
   ]
  },
  {
   "cell_type": "code",
   "execution_count": 93,
   "metadata": {},
   "outputs": [],
   "source": [
    "def create_seq(input, seq_len = 5):\n",
    "    sequences = []\n",
    "    if len(input.split()) > seq_len:\n",
    "        for i in range(seq_len, len(input.split())):\n",
    "            seq = input.split()[i - seq_len : i + 1]\n",
    "            sequences.append(' '.join(seq))\n",
    "        return sequences\n",
    "    else:\n",
    "        return [input]"
   ]
  },
  {
   "cell_type": "code",
   "execution_count": 95,
   "metadata": {},
   "outputs": [
    {
     "name": "stdout",
     "output_type": "stream",
     "text": [
      "number of sequences: 69169\n"
     ]
    }
   ],
   "source": [
    "seqs = [create_seq(chords) for chords in data]\n",
    "seqs = sum(seqs, [])\n",
    "print(f'number of sequences: {len(seqs)}')"
   ]
  },
  {
   "cell_type": "code",
   "execution_count": 96,
   "metadata": {},
   "outputs": [],
   "source": [
    "# create inputs and targets (x, y)\n",
    "x = []\n",
    "y = []\n",
    "for s in seqs:\n",
    "    x.append(' '.join(s.split()[:-1]))\n",
    "    y.append(' '.join(s.split()[1:]))"
   ]
  },
  {
   "cell_type": "code",
   "execution_count": 101,
   "metadata": {},
   "outputs": [
    {
     "name": "stdout",
     "output_type": "stream",
     "text": [
      "581\n"
     ]
    }
   ],
   "source": [
    "# int-to-token mapping\n",
    "int2token = {}\n",
    "cnt = 0\n",
    "for w in set(' '.join(data).split()):\n",
    "    int2token[cnt] = w\n",
    "    cnt += 1\n",
    "\n",
    "# token-to-int mapping\n",
    "token2int = {t: i for i, t in int2token.items()}\n",
    "\n",
    "print(len(int2token))\n",
    "vocab_size = len(int2token)"
   ]
  },
  {
   "cell_type": "code",
   "execution_count": 99,
   "metadata": {},
   "outputs": [
    {
     "name": "stdout",
     "output_type": "stream",
     "text": [
      "[[386   5 427 386 386]\n",
      " [  5 427 386 386   5]\n",
      " [427 386 386   5 311]\n",
      " ...\n",
      " [235 235 161 190 235]\n",
      " [235 161 190 235 161]\n",
      " [161 190 235 161 138]]\n"
     ]
    }
   ],
   "source": [
    "def get_integer_seq(seq):\n",
    "    return [token2int[w] for w in seq.split()]\n",
    "\n",
    "# convert input/target seqs to int\n",
    "x_int = [get_integer_seq(i) for i in x]\n",
    "y_int = [get_integer_seq(i) for i in y]\n",
    "\n",
    "# convert seqs to numpy arrays\n",
    "x_int = np.array(x_int)\n",
    "y_int = np.array(y_int)\n",
    "print(x_int)"
   ]
  },
  {
   "cell_type": "code",
   "execution_count": 100,
   "metadata": {},
   "outputs": [],
   "source": [
    "def get_batches(arr_x, arr_y, batch_size):\n",
    "    prv = 0\n",
    "    for n in range(batch_size, arr_x.shape[0], batch_size):\n",
    "        x = arr_x[prv : n, :]\n",
    "        y = arr_y[prv : n, :]\n",
    "        prv = n\n",
    "        yield x, y"
   ]
  },
  {
   "cell_type": "code",
   "execution_count": 102,
   "metadata": {},
   "outputs": [],
   "source": [
    "class WordLSTM(nn.Module):\n",
    "    def __init__(self, n_hidden=256, n_layers=4, drop_prob=0.3, lr=0.001):\n",
    "        super().__init__()\n",
    "        self.n_hidden = n_hidden\n",
    "        self.n_layers = n_layers\n",
    "        self.drop_prob = drop_prob\n",
    "        self.lr = lr\n",
    "\n",
    "        self.emb_layer = nn.Embedding(vocab_size, 200)\n",
    "        self.lstm = nn.LSTM(200, n_hidden, n_layers, dropout = drop_prob, batch_first = True)\n",
    "        self.dropout = nn.Dropout(drop_prob)\n",
    "        self.fc = nn.Linear(n_hidden, vocab_size)\n",
    "\n",
    "    def forward(self, x, hidden):\n",
    "        embedded = self.emb_layer(x)\n",
    "        lstm_output, hidden = self.lstm(embedded, hidden)\n",
    "        out = self.dropout(lstm_output)\n",
    "\n",
    "        out = out.reshape(-1, self.n_hidden)\n",
    "        out = self.fc(out)\n",
    "\n",
    "        return out, hidden\n",
    "\n",
    "    def init_hidden(self, batch_size):\n",
    "        weight = next(self.parameters()).data\n",
    "\n",
    "        if (torch.cuda.is_available()):\n",
    "            hidden = (weight.new(self.n_layers, batch_size, self.n_hidden).zero_().cuda(), weight.new(self.n_layers, batch_size, self.n_hidden).zero_().cuda())\n",
    "        else:\n",
    "            hidden = (weight.new(self.n_layers, batch_size, self.n_hidden).zero_(), weight.new(self.n_layers, batch_size, self.n_hidden).zero_())\n",
    "        \n",
    "        return hidden"
   ]
  },
  {
   "cell_type": "code",
   "execution_count": 103,
   "metadata": {},
   "outputs": [
    {
     "name": "stdout",
     "output_type": "stream",
     "text": [
      "WordLSTM(\n",
      "  (emb_layer): Embedding(581, 200)\n",
      "  (lstm): LSTM(200, 256, num_layers=4, batch_first=True, dropout=0.3)\n",
      "  (dropout): Dropout(p=0.3, inplace=False)\n",
      "  (fc): Linear(in_features=256, out_features=581, bias=True)\n",
      ")\n"
     ]
    }
   ],
   "source": [
    "# init model\n",
    "net = WordLSTM()\n",
    "# net.cuda()\n",
    "print(net)"
   ]
  },
  {
   "cell_type": "code",
   "execution_count": 105,
   "metadata": {},
   "outputs": [],
   "source": [
    "loss_record = []\n",
    "\n",
    "def train(net, epochs = 10, batch_size = 32, lr = 0.001, clip = 1, print_every = 32):\n",
    "    opt = torch.optim.Adam(net.parameters(), lr=lr)\n",
    "    criterion = nn.CrossEntropyLoss()\n",
    "    # net.cuda()\n",
    "    counter = 0\n",
    "    net.train()\n",
    "\n",
    "    for e in range(epochs):\n",
    "        h = net.init_hidden(batch_size)\n",
    "        for x, y in get_batches(x_int, y_int, batch_size):\n",
    "            counter += 1\n",
    "\n",
    "            # convert np arrays to torch arrays\n",
    "            inputs, targets = torch.from_numpy(x), torch.from_numpy(y)\n",
    "\n",
    "            # push tensors to GPU\n",
    "            # inputs, targets = inputs.cuda(), targets.cuda()\n",
    "\n",
    "            # detach hidden layers\n",
    "            h = tuple([each.data for each in h])\n",
    "\n",
    "            # zero accumulated gradients\n",
    "            net.zero_grad()\n",
    "\n",
    "            # get output from model\n",
    "            output, h = net(inputs, h)\n",
    "\n",
    "            # calculate loss and backprop\n",
    "            loss = criterion(output, targets.view(-1))\n",
    "            loss_record.append(loss)\n",
    "            loss.backward()\n",
    "\n",
    "            # this prevents exploding grad in RNN/LSTM\n",
    "            nn.utils.clip_grad_norm_(net.parameters(), clip)\n",
    "\n",
    "            # update weights\n",
    "            opt.step()\n",
    "\n",
    "            if counter % print_every == 0:\n",
    "                print('Epoch: {}/{}...'.format(e+1, epochs), 'Step: {}...'.format(counter))"
   ]
  },
  {
   "cell_type": "code",
   "execution_count": 106,
   "metadata": {},
   "outputs": [
    {
     "name": "stdout",
     "output_type": "stream",
     "text": [
      "Epoch: 1/20... Step: 256...\n",
      "Epoch: 1/20... Step: 512...\n",
      "Epoch: 1/20... Step: 768...\n",
      "Epoch: 1/20... Step: 1024...\n",
      "Epoch: 1/20... Step: 1280...\n",
      "Epoch: 1/20... Step: 1536...\n",
      "Epoch: 1/20... Step: 1792...\n",
      "Epoch: 1/20... Step: 2048...\n",
      "Epoch: 2/20... Step: 2304...\n",
      "Epoch: 2/20... Step: 2560...\n",
      "Epoch: 2/20... Step: 2816...\n",
      "Epoch: 2/20... Step: 3072...\n",
      "Epoch: 2/20... Step: 3328...\n",
      "Epoch: 2/20... Step: 3584...\n",
      "Epoch: 2/20... Step: 3840...\n",
      "Epoch: 2/20... Step: 4096...\n",
      "Epoch: 3/20... Step: 4352...\n",
      "Epoch: 3/20... Step: 4608...\n",
      "Epoch: 3/20... Step: 4864...\n",
      "Epoch: 3/20... Step: 5120...\n",
      "Epoch: 3/20... Step: 5376...\n",
      "Epoch: 3/20... Step: 5632...\n",
      "Epoch: 3/20... Step: 5888...\n",
      "Epoch: 3/20... Step: 6144...\n",
      "Epoch: 3/20... Step: 6400...\n",
      "Epoch: 4/20... Step: 6656...\n",
      "Epoch: 4/20... Step: 6912...\n",
      "Epoch: 4/20... Step: 7168...\n",
      "Epoch: 4/20... Step: 7424...\n",
      "Epoch: 4/20... Step: 7680...\n",
      "Epoch: 4/20... Step: 7936...\n",
      "Epoch: 4/20... Step: 8192...\n",
      "Epoch: 4/20... Step: 8448...\n",
      "Epoch: 5/20... Step: 8704...\n",
      "Epoch: 5/20... Step: 8960...\n",
      "Epoch: 5/20... Step: 9216...\n",
      "Epoch: 5/20... Step: 9472...\n",
      "Epoch: 5/20... Step: 9728...\n",
      "Epoch: 5/20... Step: 9984...\n",
      "Epoch: 5/20... Step: 10240...\n",
      "Epoch: 5/20... Step: 10496...\n",
      "Epoch: 5/20... Step: 10752...\n",
      "Epoch: 6/20... Step: 11008...\n",
      "Epoch: 6/20... Step: 11264...\n",
      "Epoch: 6/20... Step: 11520...\n",
      "Epoch: 6/20... Step: 11776...\n",
      "Epoch: 6/20... Step: 12032...\n",
      "Epoch: 6/20... Step: 12288...\n",
      "Epoch: 6/20... Step: 12544...\n",
      "Epoch: 6/20... Step: 12800...\n",
      "Epoch: 7/20... Step: 13056...\n",
      "Epoch: 7/20... Step: 13312...\n",
      "Epoch: 7/20... Step: 13568...\n",
      "Epoch: 7/20... Step: 13824...\n",
      "Epoch: 7/20... Step: 14080...\n",
      "Epoch: 7/20... Step: 14336...\n",
      "Epoch: 7/20... Step: 14592...\n",
      "Epoch: 7/20... Step: 14848...\n",
      "Epoch: 7/20... Step: 15104...\n",
      "Epoch: 8/20... Step: 15360...\n",
      "Epoch: 8/20... Step: 15616...\n",
      "Epoch: 8/20... Step: 15872...\n",
      "Epoch: 8/20... Step: 16128...\n",
      "Epoch: 8/20... Step: 16384...\n",
      "Epoch: 8/20... Step: 16640...\n",
      "Epoch: 8/20... Step: 16896...\n",
      "Epoch: 8/20... Step: 17152...\n",
      "Epoch: 9/20... Step: 17408...\n",
      "Epoch: 9/20... Step: 17664...\n",
      "Epoch: 9/20... Step: 17920...\n",
      "Epoch: 9/20... Step: 18176...\n",
      "Epoch: 9/20... Step: 18432...\n",
      "Epoch: 9/20... Step: 18688...\n",
      "Epoch: 9/20... Step: 18944...\n",
      "Epoch: 9/20... Step: 19200...\n",
      "Epoch: 10/20... Step: 19456...\n",
      "Epoch: 10/20... Step: 19712...\n",
      "Epoch: 10/20... Step: 19968...\n",
      "Epoch: 10/20... Step: 20224...\n",
      "Epoch: 10/20... Step: 20480...\n",
      "Epoch: 10/20... Step: 20736...\n",
      "Epoch: 10/20... Step: 20992...\n",
      "Epoch: 10/20... Step: 21248...\n",
      "Epoch: 10/20... Step: 21504...\n",
      "Epoch: 11/20... Step: 21760...\n",
      "Epoch: 11/20... Step: 22016...\n",
      "Epoch: 11/20... Step: 22272...\n",
      "Epoch: 11/20... Step: 22528...\n",
      "Epoch: 11/20... Step: 22784...\n",
      "Epoch: 11/20... Step: 23040...\n",
      "Epoch: 11/20... Step: 23296...\n",
      "Epoch: 11/20... Step: 23552...\n",
      "Epoch: 12/20... Step: 23808...\n",
      "Epoch: 12/20... Step: 24064...\n",
      "Epoch: 12/20... Step: 24320...\n",
      "Epoch: 12/20... Step: 24576...\n",
      "Epoch: 12/20... Step: 24832...\n",
      "Epoch: 12/20... Step: 25088...\n",
      "Epoch: 12/20... Step: 25344...\n",
      "Epoch: 12/20... Step: 25600...\n",
      "Epoch: 12/20... Step: 25856...\n",
      "Epoch: 13/20... Step: 26112...\n",
      "Epoch: 13/20... Step: 26368...\n",
      "Epoch: 13/20... Step: 26624...\n",
      "Epoch: 13/20... Step: 26880...\n",
      "Epoch: 13/20... Step: 27136...\n",
      "Epoch: 13/20... Step: 27392...\n",
      "Epoch: 13/20... Step: 27648...\n",
      "Epoch: 13/20... Step: 27904...\n",
      "Epoch: 14/20... Step: 28160...\n",
      "Epoch: 14/20... Step: 28416...\n",
      "Epoch: 14/20... Step: 28672...\n",
      "Epoch: 14/20... Step: 28928...\n",
      "Epoch: 14/20... Step: 29184...\n",
      "Epoch: 14/20... Step: 29440...\n",
      "Epoch: 14/20... Step: 29696...\n",
      "Epoch: 14/20... Step: 29952...\n",
      "Epoch: 14/20... Step: 30208...\n",
      "Epoch: 15/20... Step: 30464...\n",
      "Epoch: 15/20... Step: 30720...\n",
      "Epoch: 15/20... Step: 30976...\n",
      "Epoch: 15/20... Step: 31232...\n",
      "Epoch: 15/20... Step: 31488...\n",
      "Epoch: 15/20... Step: 31744...\n",
      "Epoch: 15/20... Step: 32000...\n",
      "Epoch: 15/20... Step: 32256...\n",
      "Epoch: 16/20... Step: 32512...\n",
      "Epoch: 16/20... Step: 32768...\n",
      "Epoch: 16/20... Step: 33024...\n",
      "Epoch: 16/20... Step: 33280...\n",
      "Epoch: 16/20... Step: 33536...\n",
      "Epoch: 16/20... Step: 33792...\n",
      "Epoch: 16/20... Step: 34048...\n",
      "Epoch: 16/20... Step: 34304...\n",
      "Epoch: 16/20... Step: 34560...\n",
      "Epoch: 17/20... Step: 34816...\n",
      "Epoch: 17/20... Step: 35072...\n",
      "Epoch: 17/20... Step: 35328...\n",
      "Epoch: 17/20... Step: 35584...\n",
      "Epoch: 17/20... Step: 35840...\n",
      "Epoch: 17/20... Step: 36096...\n",
      "Epoch: 17/20... Step: 36352...\n",
      "Epoch: 17/20... Step: 36608...\n",
      "Epoch: 18/20... Step: 36864...\n",
      "Epoch: 18/20... Step: 37120...\n",
      "Epoch: 18/20... Step: 37376...\n",
      "Epoch: 18/20... Step: 37632...\n",
      "Epoch: 18/20... Step: 37888...\n",
      "Epoch: 18/20... Step: 38144...\n",
      "Epoch: 18/20... Step: 38400...\n",
      "Epoch: 18/20... Step: 38656...\n",
      "Epoch: 19/20... Step: 38912...\n",
      "Epoch: 19/20... Step: 39168...\n",
      "Epoch: 19/20... Step: 39424...\n",
      "Epoch: 19/20... Step: 39680...\n",
      "Epoch: 19/20... Step: 39936...\n",
      "Epoch: 19/20... Step: 40192...\n",
      "Epoch: 19/20... Step: 40448...\n",
      "Epoch: 19/20... Step: 40704...\n",
      "Epoch: 19/20... Step: 40960...\n",
      "Epoch: 20/20... Step: 41216...\n",
      "Epoch: 20/20... Step: 41472...\n",
      "Epoch: 20/20... Step: 41728...\n",
      "Epoch: 20/20... Step: 41984...\n",
      "Epoch: 20/20... Step: 42240...\n",
      "Epoch: 20/20... Step: 42496...\n",
      "Epoch: 20/20... Step: 42752...\n",
      "Epoch: 20/20... Step: 43008...\n"
     ]
    }
   ],
   "source": [
    "train(net, batch_size=32, epochs = 20, print_every = 256)"
   ]
  },
  {
   "cell_type": "code",
   "execution_count": 114,
   "metadata": {},
   "outputs": [
    {
     "data": {
      "text/plain": [
       "[<matplotlib.lines.Line2D at 0x4aa594c10>]"
      ]
     },
     "execution_count": 114,
     "metadata": {},
     "output_type": "execute_result"
    },
    {
     "data": {
      "image/png": "[encoded data removed]",
      "text/plain": [
       "<Figure size 640x480 with 1 Axes>"
      ]
     },
     "metadata": {},
     "output_type": "display_data"
    }
   ],
   "source": [
    "import matplotlib.pyplot as plt\n",
    "plt.plot([i.item() for i in loss_record])"
   ]
  },
  {
   "cell_type": "code",
   "execution_count": 121,
   "metadata": {},
   "outputs": [],
   "source": [
    "torch.save(net.state_dict(), './model_saved.pt')"
   ]
  },
  {
   "cell_type": "code",
   "execution_count": 115,
   "metadata": {},
   "outputs": [],
   "source": [
    "def predict(net, tkn, h = None):\n",
    "    # tensor inputs\n",
    "    x = np.array([[token2int[tkn]]])\n",
    "    inputs = torch.from_numpy(x)\n",
    "\n",
    "    # push to GPU\n",
    "    # inputs = inputs.cuda()\n",
    "\n",
    "    # detach hidden state from history\n",
    "    h = tuple([each.data for each in h])\n",
    "\n",
    "    # get the output from model\n",
    "    out, h = net(inputs, h)\n",
    "\n",
    "    # get the token probabilities\n",
    "    p = F.softmax(out, dim=1).data\n",
    "\n",
    "    # p = p.cpu()\n",
    "\n",
    "    p = p.numpy()\n",
    "    p = p.reshape(p.shape[1],)\n",
    "\n",
    "    # get indices of top 3 values\n",
    "    top_n_idx = p.argsort()[-3:][::1]\n",
    "\n",
    "    # randomly select one of the three indices\n",
    "    sampled_token_index = top_n_idx[random.sample([0, 1, 2], 1)[0]]\n",
    "\n",
    "    return int2token[sampled_token_index], h\n",
    "\n",
    "def sample(net, size, prime='maj-0-'):\n",
    "    # net.cuda()\n",
    "    net.eval()\n",
    "    # batch size is 1\n",
    "    h = net.init_hidden(1)\n",
    "\n",
    "    toks = prime.split()\n",
    "\n",
    "    # predict next token\n",
    "    for t in prime.split():\n",
    "        token, h = predict(net, t, h)\n",
    "    \n",
    "    toks.append(token)\n",
    "\n",
    "    # predict subsequent tokens\n",
    "    for i in range(size-1):\n",
    "        token, h = predict(net, toks[-1], h)\n",
    "        toks.append(token)\n",
    "\n",
    "    return ' '.join(toks)"
   ]
  },
  {
   "cell_type": "code",
   "execution_count": 124,
   "metadata": {},
   "outputs": [
    {
     "data": {
      "text/plain": [
       "'maj-2-m7 maj-7-7 maj-2-m7 maj-7-7sus4 maj-2-m maj-7- maj-2-m maj-5- maj-2-m maj-0- maj-0- maj-0- maj-0- maj-2-m maj-2-m maj-7- maj-5-'"
      ]
     },
     "execution_count": 124,
     "metadata": {},
     "output_type": "execute_result"
    }
   ],
   "source": [
    "sample(net, 15, 'maj-2-m7 maj-7-7')"
   ]
  }
 ],
 "metadata": {
  "kernelspec": {
   "display_name": "Python 3.10.6 64-bit",
   "language": "python",
   "name": "python3"
  },
  "language_info": {
   "codemirror_mode": {
    "name": "ipython",
    "version": 3
   },
   "file_extension": ".py",
   "mimetype": "text/x-python",
   "name": "python",
   "nbconvert_exporter": "python",
   "pygments_lexer": "ipython3",
   "version": "3.10.6"
  },
  "orig_nbformat": 4,
  "vscode": {
   "interpreter": {
    "hash": "aee8b7b246df8f9039afb4144a1f6fd8d2ca17a180786b69acc140d282b71a49"
   }
  }
 },
 "nbformat": 4,
 "nbformat_minor": 2
}
