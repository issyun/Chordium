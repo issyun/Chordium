{
 "cells": [
  {
   "cell_type": "code",
   "execution_count": 1,
   "metadata": {},
   "outputs": [],
   "source": [
    "import pandas as pd"
   ]
  },
  {
   "cell_type": "code",
   "execution_count": 4,
   "metadata": {},
   "outputs": [
    {
     "name": "stdout",
     "output_type": "stream",
     "text": [
      "master csv length: 1230\n",
      "merging csv: 1960\n",
      "master csv length: 2152\n",
      "merging csv: 1970\n",
      "master csv length: 3028\n",
      "merging csv: 1980\n",
      "master csv length: 3910\n",
      "merging csv: 1990\n",
      "master csv length: 4707\n",
      "merging csv: 2000\n",
      "master csv length: 5455\n"
     ]
    }
   ],
   "source": [
    "# merge all csv's into one\n",
    "decades = ['1950', '1960', '1970', '1980', '1990', '2000']\n",
    "df_master = pd.read_csv(f'./converted/{decades[0]}_converted_relative.csv')\n",
    "print(f'master csv length: {len(df_master)}')\n",
    "for i in range(1, len(decades)):\n",
    "    print(f'merging csv: {decades[i]}')\n",
    "    df_temp = pd.read_csv(f'./converted/{decades[i]}_converted_relative.csv')\n",
    "    df_master = pd.concat([df_master, df_temp])\n",
    "    del df_temp\n",
    "    print(f'master csv length: {len(df_master)}')\n",
    "df_master.to_csv('./converted/merged_relative.csv')\n",
    "del df_master"
   ]
  },
  {
   "cell_type": "code",
   "execution_count": 13,
   "metadata": {},
   "outputs": [],
   "source": [
    "# remove repeating chords, and songs with less than 6 chords\n",
    "df = pd.read_csv('./converted/merged_relative.csv')\n",
    "processed = []\n",
    "for i in range(len(df)):\n",
    "    row = df.iloc[i]\n",
    "    tonality = row[3]\n",
    "    if isinstance(row[4], float): continue\n",
    "    chords = row[4].split()\n",
    "    if len(chords) < 6: continue\n",
    "    chords_processed = ''\n",
    "    prev = None\n",
    "    for chord in chords:\n",
    "        if chord != prev:\n",
    "            prev = chord\n",
    "            chords_processed += ' ' + chord\n",
    "    processed.append([tonality, chords_processed])\n",
    "\n",
    "del df\n",
    "df_new = pd.DataFrame(processed)\n",
    "df_new.to_csv('./converted/merged_relative_processed.csv')\n",
    "del df_new"
   ]
  }
 ],
 "metadata": {
  "kernelspec": {
   "display_name": "Python 3.10.6 64-bit",
   "language": "python",
   "name": "python3"
  },
  "language_info": {
   "codemirror_mode": {
    "name": "ipython",
    "version": 3
   },
   "file_extension": ".py",
   "mimetype": "text/x-python",
   "name": "python",
   "nbconvert_exporter": "python",
   "pygments_lexer": "ipython3",
   "version": "3.10.6"
  },
  "orig_nbformat": 4,
  "vscode": {
   "interpreter": {
    "hash": "aee8b7b246df8f9039afb4144a1f6fd8d2ca17a180786b69acc140d282b71a49"
   }
  }
 },
 "nbformat": 4,
 "nbformat_minor": 2
}
