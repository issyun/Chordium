{
 "cells": [
  {
   "cell_type": "code",
   "execution_count": 1,
   "metadata": {},
   "outputs": [],
   "source": [
    "import pandas as pd"
   ]
  },
  {
   "cell_type": "code",
   "execution_count": 4,
   "metadata": {},
   "outputs": [
    {
     "name": "stdout",
     "output_type": "stream",
     "text": [
      "master csv length: 1230\n",
      "merging csv: 1960\n",
      "master csv length: 2152\n",
      "merging csv: 1970\n",
      "master csv length: 3028\n",
      "merging csv: 1980\n",
      "master csv length: 3910\n",
      "merging csv: 1990\n",
      "master csv length: 4707\n",
      "merging csv: 2000\n",
      "master csv length: 5455\n"
     ]
    }
   ],
   "source": [
    "# merge all csv's into one\n",
    "decades = ['1950', '1960', '1970', '1980', '1990', '2000']\n",
    "df_master = pd.read_csv(f'./converted/{decades[0]}_converted_relative.csv')\n",
    "print(f'master csv length: {len(df_master)}')\n",
    "for i in range(1, len(decades)):\n",
    "    print(f'merging csv: {decades[i]}')\n",
    "    df_temp = pd.read_csv(f'./converted/{decades[i]}_converted_relative.csv')\n",
    "    df_master = pd.concat([df_master, df_temp])\n",
    "    del df_temp\n",
    "    print(f'master csv length: {len(df_master)}')\n",
    "df_master.to_csv('./converted/merged_relative.csv')\n",
    "del df_master"
   ]
  },
  {
   "cell_type": "code",
   "execution_count": 13,
   "metadata": {},
   "outputs": [],
   "source": [
    "# remove repeating chords, and songs with less than 6 chords\n",
    "df = pd.read_csv('./converted/merged_relative.csv')\n",
    "processed = []\n",
    "for i in range(len(df)):\n",
    "    row = df.iloc[i]\n",
    "    tonality = row[3]\n",
    "    if isinstance(row[4], float): continue\n",
    "    chords = row[4].split()\n",
    "    if len(chords) < 6: continue\n",
    "    chords_processed = ''\n",
    "    prev = None\n",
    "    for chord in chords:\n",
    "        if chord != prev:\n",
    "            prev = chord\n",
    "            chords_processed += ' ' + chord\n",
    "    processed.append([tonality, chords_processed])\n",
    "\n",
    "del df\n",
    "df_new = pd.DataFrame(processed)\n",
    "df_new.to_csv('./converted/merged_relative_processed.csv')\n",
    "del df_new"
   ]
  },
  {
   "cell_type": "code",
   "execution_count": 5,
   "metadata": {},
   "outputs": [
    {
     "name": "stdout",
     "output_type": "stream",
     "text": [
      "['', 'm7', '7', 'm', 'maj7', 'm6', 'dim', 'sus4', '6', 'mmaj7', '7sus4', '/4', 'm7-5', 'sus2', 'm/0', '/9', '7(b9)', '(maj7)', 'dim7', 'm/10', '9sus4', 'maj7/9', 'add9', '/11', '7#5', '/7', '9', 'm7b5/10', '7-9', 'm7/7', '9-5', '7s4', 'aug', '7/5', '2', 'm/11', '7/3', '7b9', '/5', '/6', 'm9', '7add13', '7(b5)', 'M7', '7+', 'm/4', '7/1', '7/9', '5', '7b5', '7#11', '6/9', 'm7/10', '7#9', '/2', 'm7b5', '7/7', '7/6', 'm/7', '7/11', 'm/8', '7/10', '/0', 'add4', '(b5)', 'madd4', 'm/3', '/1', 'm/2', 'm/6', 'm/5', 'sus2/7', 'm7/0', 'm7/11', '13', 'maj7/7', '/8', '7-5', '6/7', 'maj7/0', '7/4', '4/9', '7sus4/7', 'madd11', '/3', '/10', '(sus4)', 'dim/6', '9/6', '7/0', 'm+5', '7sus', 'mM7', 'm/1', 'm11', '(7)', 'dim/10', 'dim/8', '(b9)', 'madd9', 'maj9', '7M', '7/2', 'm7/8', 'm/9', '7sus2', 'm7/9', '9/8', 'm11/0', 'add11', '7add11', '(add11)/4', 'm(maj7)', 'sus', 'maj7sus2', 'm6add9', 'm6/0', '7+9', 'maj', 'maj7/4', 'dim/11', 'add9/7', '7sus2/10', '13/7', 'm13/7', 'madd9/7', '7-5/7', '6/4', 'sus7/8', 'madd9/6', '7/8', '4', 'm7/3', '7(#5)', '11', '5/7', '+', '7sus4/2', 'o', 'm#5', 'mmaj7/7', 'm7/6', '9/10', '7sus4/0', 'mM7/8', 'ma7', '6/0', '5/0', '9/0', '9/9', 'm13', 'm6/9', 'mb9', '7b5b9', '6sus2', 'sus2/2', 'm7/2', 'm7/4', 'sus2/9', 'sus2/11', '9/5', 'maj7#11', '6sus4', 'maj7b5', '(4)', '(2)', 'add4add9', 'maj7/1', 'm6/10', 'dim7/2', 'm6/1', 'm6/2', 'm7/1', 'min7', 'M13', 'maj9/7', '9#11', 'm11/5', 'sus4/4', '6/2', 'sus4/0', 'm7#5', 'mb5', 'm6/6', '7sus4/4', 'madd9/11', 'maj13', 'maj7-5', 'dim(III)', '7sus/4', '+5', '6add11', 'add4/11', 'dim7/9', 'dim7/0', '9sus4/7', '+/8', 'dim7/3', 'add9/6', 'add2', 'm7/5', '6add9', 'sus4/7', 'madd9/9', 'sus4/9', 'dim/0', 'm(maj7)/3', '+9', 'dim/1', '9sus', '6/5', '5/11', 'm7add4', '9/7', 'mmaj9', '9b5', 'm6/11', 'mmaj7/8', '(maj9)', '(Bb)/2', '(С)/7', 'maj9/4', '6add11/4', 'aug/10', 'm6/4', 'm9/10', 'm(add9)', 'm7b5/0', '7b13', 'm7add11', 'maj7sus4', 'Maj7', 'Maj7/9', 'min', 'M', '6/11', 'maj7/10', '9/11', '9+5', 'maj9/3', 'addb6', 'sus2/0', 'aug/0', '5/5', '5/3', 'maj7/3', 'sus7', 'M9/2', 'm6/7', 'm-9', 'm-9/8', '-9', 'm-5', 'sus/0', 'm6/5', 'maj7/11', 'm6/8', '7+5', 'maj11', '5/9', 'm11/4', 'm7add11/4', 'madd11/9', '9#5', 'sus4/2', '(5)', 'sus/7', '7(sus2)', 'sus2/4', 'add9/4', 'm9/8', 'm9/7', 'm9/6', 'm9/5', 'add4/2', 'add13', 'sus2/3', 'sus4/11', '9/4', 'sus2/10', 'maj7/2', 'm7+5', 'maj7/8', '7sus4/10', '7sus4/8', '7(b13)', 'sus2/1', 'sus2/8', 'maj7/5', '-', 'aug/6', 'mM7/11', 'm7b5/5', '7sus/2', '5/10', 'maj7#5/9', 'add#11', '(add9)', 'm6/3', '7-9/4', '6add11/11', 'dim/7', 'mMaj7', 'aug/4', 'aug/1', '7sus4/1', '(add2)', '5/8', '5/1', 'add9/11', 'add9/10', 'maj9/9', 'sus/2', 'add4/5', 'm11/3', 'm7-5/8', 'm7b5/7', '5/4', '5/2', 'm7add13', 'add9/9', 'dim/4', 'dim/3', '-5/2', '-5', '6maj7', 'add9/0', 'add11/2', 'M7/9', 'add11/11', 'sus4/6', 'dim/5', 'add9/1', 'maj7/6', 'sus2/6', '7#5/11', '7-13', 'm7-5/7', '6#9', 'sus2/5', 'maj9/6', 'add11/9', '11/6', 'sus4/10', 'maj/2', '5/6', 'm11/7', '7(add4)', 'sus/5', '2/6', 'II', 'm6add9/9', '11/9', '7sus4/9', '7m', 'sus/4', '(add9)/1', '7+5/4', 'add4/6', '7sus4/11', 'sus2add6', 'm11/2', 'minor', 'm#', 'madd9/8', 'madd9/5', 'madd9/2', '6sus', 'addb13', 'sus4/3', 'm+', 'maj/7', 'm(7)', 'M7/11', 'add9/2', 'madd11/4', '+/11', '7#5/8', 'M7/2', '9/2', 'aug/8', '7+5+9', '7+5-9', '6/3', '-5/4', 'm5', 'm(maj9)', 'maj9/11', 'maj9/5', 'dim/2', 'sus4/5', 'add2/6', 'm7b5/11']\n"
     ]
    }
   ],
   "source": [
    "# get all tails (chord types) from csv\n",
    "decades = ['1950', '1960', '1970', '1980', '1990', '2000']\n",
    "types = []\n",
    "\n",
    "def extract_types(df):\n",
    "    for i in range(len(df)):\n",
    "            row = df.iloc[i]\n",
    "            if isinstance(row[-1], float): break\n",
    "            for chord in row[-1].split():\n",
    "                dash_idx = 0\n",
    "                for idx, char in enumerate(chord):\n",
    "                    if char == '-':\n",
    "                        dash_idx = idx\n",
    "                        break\n",
    "                if chord[dash_idx + 1:] not in types:\n",
    "                    types.append(chord[dash_idx + 1:])\n",
    "\n",
    "for decade in decades:\n",
    "    df = pd.read_csv(f'./converted/{decade}_converted_relative.csv')\n",
    "    extract_types(df)\n",
    "    df = pd.read_csv(f'./converted/{decade}_converted_absolute.csv')\n",
    "    extract_types(df)\n",
    "    del df\n",
    "\n",
    "print(types)"
   ]
  }
 ],
 "metadata": {
  "kernelspec": {
   "display_name": "Python 3.10.6 64-bit",
   "language": "python",
   "name": "python3"
  },
  "language_info": {
   "codemirror_mode": {
    "name": "ipython",
    "version": 3
   },
   "file_extension": ".py",
   "mimetype": "text/x-python",
   "name": "python",
   "nbconvert_exporter": "python",
   "pygments_lexer": "ipython3",
   "version": "3.10.6"
  },
  "orig_nbformat": 4,
  "vscode": {
   "interpreter": {
    "hash": "aee8b7b246df8f9039afb4144a1f6fd8d2ca17a180786b69acc140d282b71a49"
   }
  }
 },
 "nbformat": 4,
 "nbformat_minor": 2
}
