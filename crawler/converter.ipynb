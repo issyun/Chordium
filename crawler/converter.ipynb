{
 "cells": [
  {
   "cell_type": "code",
   "execution_count": 3,
   "metadata": {},
   "outputs": [],
   "source": [
    "import pandas as pd\n",
    "import math\n",
    "import ast\n",
    "from tqdm.auto import tqdm"
   ]
  },
  {
   "cell_type": "code",
   "execution_count": 24,
   "metadata": {},
   "outputs": [],
   "source": [
    "note2number = {\n",
    "    'B#': 0,\n",
    "    'C': 0,\n",
    "    'С': 0, # Cyrillic C (U+0421)\n",
    "    'C#': 1,\n",
    "    'С#': 1,\n",
    "    'Db': 1,\n",
    "    'D': 2,\n",
    "    'D#': 3,\n",
    "    'Eb': 3,\n",
    "    'E': 4,\n",
    "    'Fb': 4,\n",
    "    'E#': 5,\n",
    "    'F': 5,\n",
    "    'F#': 6,\n",
    "    'Gb': 6,\n",
    "    'G': 7,\n",
    "    'G#': 8,\n",
    "    'Ab': 8,\n",
    "    'A': 9,\n",
    "    'A#': 10,\n",
    "    'Bb': 10,\n",
    "    'B': 11,\n",
    "    'Cb': 11,\n",
    "    'Сb': 11\n",
    "}\n",
    "\n",
    "note2number_alt = {\n",
    "    'C': 0,\n",
    "    'С': 0,\n",
    "    'C#': 1,\n",
    "    'С#': 1,\n",
    "    'Db': 1,\n",
    "    'D': 2,\n",
    "    'D#': 3,\n",
    "    'Eb': 3,\n",
    "    'E': 4,\n",
    "    'Fb': 4,\n",
    "    'E#': 5,\n",
    "    'F': 5,\n",
    "    'F#': 6,\n",
    "    'Gb': 6,\n",
    "    'G': 7,\n",
    "    'G#': 8,\n",
    "    'Ab': 8,\n",
    "    'A': 9,\n",
    "    'A#': 10,\n",
    "    'Bb': 10,\n",
    "    'B': 10,\n",
    "    'B#': 11,\n",
    "    'H': 11,\n",
    "    'Cb': 11,\n",
    "    'Сb': 11\n",
    "}\n",
    "\n",
    "def key2number(key):\n",
    "    tonic = 0\n",
    "    tonality = ''\n",
    "    try:\n",
    "        if len(key) > 2: # e.g. C#m\n",
    "            tonality = 'min'\n",
    "            tonic = note2number[key[:2]]\n",
    "        elif len(key) == 2: # e.g. Dm or Db\n",
    "            if key in note2number: # e.g. Db\n",
    "                tonality = 'maj'\n",
    "                tonic = note2number[key]\n",
    "            else: # e.g. Dm\n",
    "                tonality = 'min'\n",
    "                tonic = note2number[key[:1]]\n",
    "        else: # e.g. C\n",
    "            tonality = 'maj'\n",
    "            tonic = note2number[key]\n",
    "    except KeyError:\n",
    "        # print(f'!!key2number KeyError: {key}')\n",
    "        return -1, -1\n",
    "    return tonic, tonality\n",
    "\n",
    "def chord2number(chord, tonic, alt=False):\n",
    "    copy = chord\n",
    "\n",
    "    # convert root to number\n",
    "    root = 0\n",
    "    root_length = 0\n",
    "    try:\n",
    "        if alt:\n",
    "            if copy[:2] in note2number_alt: root_length = 2 # e.g. C#\n",
    "            elif copy[:1] in note2number_alt: root_length = 1 # e.g. C\n",
    "            root = note2number_alt[copy[:root_length]]\n",
    "        else:\n",
    "            if copy[:2] in note2number: root_length = 2 # e.g. C#\n",
    "            elif copy[:1] in note2number: root_length = 1 # e.g. C\n",
    "            root = note2number[copy[:root_length]]\n",
    "    except KeyError:\n",
    "        # print(f'root KeyError: {chord}')\n",
    "        return -1 # skip this song\n",
    "    root_relative = root - tonic + 12 if root - tonic < 0 else root - tonic\n",
    "    copy = str(int(root_relative)) + '-' + copy[root_length:]\n",
    "\n",
    "    # check if slash exists\n",
    "    slash_index = 0\n",
    "    for index, char in enumerate(copy):\n",
    "        if char == '/': slash_index = index\n",
    "    \n",
    "    # check if slash chord and convert\n",
    "    try:\n",
    "        if slash_index > 0:\n",
    "            slash_root = 0\n",
    "            slash_root_relative = 0\n",
    "            slash_length = 0\n",
    "            is_slash_chord = True\n",
    "\n",
    "            if alt:\n",
    "                if copy[slash_index + 1:][:2] in note2number_alt: slash_length = 2 # e.g. C#\n",
    "                elif copy[slash_index + 1:][:1] in note2number_alt: slash_length = 1 # e.g. C\n",
    "                else: is_slash_chord = False\n",
    "                if is_slash_chord: slash_root = note2number_alt[copy[slash_index + 1:][:slash_length]]\n",
    "            else:\n",
    "                if copy[slash_index + 1:][:2] in note2number: slash_length = 2 # e.g. C#\n",
    "                elif copy[slash_index + 1:][:1] in note2number: slash_length = 1 # e.g. C\n",
    "                else: is_slash_chord = False\n",
    "                if is_slash_chord: slash_root = note2number[copy[slash_index + 1:][:slash_length]]\n",
    "                \n",
    "            if is_slash_chord:\n",
    "                slash_root_relative = slash_root - tonic + 12 if slash_root - tonic < 0 else slash_root - tonic\n",
    "                copy = copy[:slash_index + 1] + str(int(slash_root_relative)) + copy[slash_index + slash_length + 1:]\n",
    "    except KeyError:\n",
    "        print(f'Slash chord KeyError: {chord}')\n",
    "\n",
    "    return copy\n",
    "\n",
    "def convert_chords(chords, tonic, alt=False):\n",
    "    converted_chords = ''\n",
    "    for line_idx, line in enumerate(chords):\n",
    "        for chord_idx, chord in enumerate(line):\n",
    "            if chord == '': continue\n",
    "            if alt == False and chord[:1] == 'H':\n",
    "                return 0\n",
    "            converted_chord = chord2number(chord, tonic, alt)\n",
    "            if converted_chord == -1: return -1\n",
    "            converted_chords += converted_chord\n",
    "            if line_idx != len(chords) - 1 or chord_idx != len(line) - 1: # only for the last chord\n",
    "                converted_chords += ' '\n",
    "    return converted_chords"
   ]
  },
  {
   "cell_type": "code",
   "execution_count": 23,
   "metadata": {},
   "outputs": [
    {
     "data": {
      "text/plain": [
       "False"
      ]
     },
     "execution_count": 23,
     "metadata": {},
     "output_type": "execute_result"
    }
   ],
   "source": []
  },
  {
   "cell_type": "code",
   "execution_count": 25,
   "metadata": {},
   "outputs": [
    {
     "name": "stdout",
     "output_type": "stream",
     "text": [
      "--- PROCESSING FILE: 1950 ---\n"
     ]
    },
    {
     "data": {
      "application/vnd.jupyter.widget-view+json": {
       "model_id": "88963f77e78f4d4c8f9966de41403d89",
       "version_major": 2,
       "version_minor": 0
      },
      "text/plain": [
       "  0%|          | 0/4991 [00:00<?, ?it/s]"
      ]
     },
     "metadata": {},
     "output_type": "display_data"
    },
    {
     "name": "stdout",
     "output_type": "stream",
     "text": [
      "invalid notation. skipping song: 1258\n",
      "invalid notation. skipping song: 1550\n",
      "invalid notation. skipping song: 1699\n",
      "invalid notation. skipping song: 1945\n",
      "invalid notation. skipping song: 2108\n",
      "invalid notation. skipping song: 3350\n",
      "invalid notation. skipping song: 3821\n",
      "invalid notation. skipping song: 3980\n",
      "invalid notation. skipping song: 4199\n",
      "invalid notation. skipping song: 4656\n",
      "invalid notation. skipping song: 4678\n",
      "invalid notation. skipping song: 4684\n",
      "invalid notation. skipping song: 4685\n",
      "invalid notation. skipping song: 4752\n",
      "invalid notation. skipping song: 4753\n",
      "invalid notation. skipping song: 4754\n",
      "invalid notation. skipping song: 4757\n",
      "--- PROCESSING FILE: 1960 ---\n"
     ]
    },
    {
     "data": {
      "application/vnd.jupyter.widget-view+json": {
       "model_id": "72e9558ffd584f5dad5e1bca631ce041",
       "version_major": 2,
       "version_minor": 0
      },
      "text/plain": [
       "  0%|          | 0/5000 [00:00<?, ?it/s]"
      ]
     },
     "metadata": {},
     "output_type": "display_data"
    },
    {
     "name": "stdout",
     "output_type": "stream",
     "text": [
      "invalid notation. skipping song: 2522\n",
      "invalid notation. skipping song: 3330\n",
      "invalid notation. skipping song: 4189\n",
      "--- PROCESSING FILE: 1970 ---\n"
     ]
    },
    {
     "data": {
      "application/vnd.jupyter.widget-view+json": {
       "model_id": "211272a881b040b591a44c9d825b567c",
       "version_major": 2,
       "version_minor": 0
      },
      "text/plain": [
       "  0%|          | 0/5000 [00:00<?, ?it/s]"
      ]
     },
     "metadata": {},
     "output_type": "display_data"
    },
    {
     "name": "stdout",
     "output_type": "stream",
     "text": [
      "invalid notation. skipping song: 3891\n",
      "invalid notation. skipping song: 4469\n",
      "--- PROCESSING FILE: 1980 ---\n"
     ]
    },
    {
     "data": {
      "application/vnd.jupyter.widget-view+json": {
       "model_id": "1e21a48adae14ff8863100f01a6fceb2",
       "version_major": 2,
       "version_minor": 0
      },
      "text/plain": [
       "  0%|          | 0/5000 [00:00<?, ?it/s]"
      ]
     },
     "metadata": {},
     "output_type": "display_data"
    },
    {
     "name": "stdout",
     "output_type": "stream",
     "text": [
      "invalid notation. skipping song: 4328\n",
      "invalid notation. skipping song: 4993\n",
      "--- PROCESSING FILE: 1990 ---\n"
     ]
    },
    {
     "data": {
      "application/vnd.jupyter.widget-view+json": {
       "model_id": "92e5e770d4164561bc04c67dcc4304dc",
       "version_major": 2,
       "version_minor": 0
      },
      "text/plain": [
       "  0%|          | 0/5000 [00:00<?, ?it/s]"
      ]
     },
     "metadata": {},
     "output_type": "display_data"
    },
    {
     "name": "stdout",
     "output_type": "stream",
     "text": [
      "invalid notation. skipping song: 1870\n",
      "invalid notation. skipping song: 1954\n",
      "invalid notation. skipping song: 2525\n",
      "invalid notation. skipping song: 2526\n",
      "invalid notation. skipping song: 2809\n",
      "invalid notation. skipping song: 3358\n",
      "--- PROCESSING FILE: 2000 ---\n"
     ]
    },
    {
     "data": {
      "application/vnd.jupyter.widget-view+json": {
       "model_id": "56945bf3c544461f9c26da1476fa0e46",
       "version_major": 2,
       "version_minor": 0
      },
      "text/plain": [
       "  0%|          | 0/5000 [00:00<?, ?it/s]"
      ]
     },
     "metadata": {},
     "output_type": "display_data"
    },
    {
     "name": "stdout",
     "output_type": "stream",
     "text": [
      "Converted 6 files.\n",
      "Decade / Relative / Absolute / Skipped\n",
      "('1950', 1230, 3744, 17)\n",
      "('1960', 922, 4075, 3)\n",
      "('1970', 876, 4122, 2)\n",
      "('1980', 882, 4116, 2)\n",
      "('1990', 797, 4197, 6)\n",
      "('2000', 748, 4252, 0)\n"
     ]
    }
   ],
   "source": [
    "decades = ['1950', '1960', '1970', '1980', '1990', '2000']\n",
    "num_elements = []\n",
    "\n",
    "for decade in decades:\n",
    "    print(f'--- PROCESSING FILE: {decade} ---')\n",
    "    csv = pd.read_csv(f'./{decade}.csv')\n",
    "    converted_list = []\n",
    "    absolute_list = []\n",
    "    num_relative = 0\n",
    "    num_absolute = 0\n",
    "    num_skipped = 0\n",
    "    for i in tqdm(range(len(csv))):\n",
    "        row = csv.iloc[i]\n",
    "\n",
    "        # check if key is missing\n",
    "        absolute = False\n",
    "        if isinstance(row.key, float):\n",
    "            absolute = True\n",
    "            tonic = 0\n",
    "        else:\n",
    "            tonic, tonality = key2number(row.key)\n",
    "            if tonic == -1:\n",
    "                print(f'key error. skipping song: {i} {row.title}')\n",
    "                num_skipped += 1\n",
    "                continue\n",
    "            # check for capo and calculate\n",
    "            if not math.isnan(row.capo):\n",
    "                tonic = tonic - row.capo + 12 if tonic - row.capo < 0 else tonic - row.capo\n",
    "\n",
    "        # read chord list as list literal and convert\n",
    "        chords = ast.literal_eval(row.chords)\n",
    "        converted_chords = convert_chords(chords, tonic)\n",
    "\n",
    "        # check for errors in conversion\n",
    "        if converted_chords == 0: # If Scandinavian/German notation...\n",
    "            converted_chords = convert_chords(chords, tonic, alt=True)\n",
    "        if converted_chords == -1: # if invalid song...\n",
    "            print(f'invalid notation. skipping song: {i}')\n",
    "            num_skipped += 1\n",
    "            continue\n",
    "\n",
    "        # append converted song to respective list\n",
    "        if absolute:\n",
    "            absolute_list.append([row.title, converted_chords])\n",
    "            num_absolute += 1\n",
    "        else:\n",
    "            converted_list.append([row.title, 0 if tonality == 'maj' else 1, converted_chords])\n",
    "            num_relative += 1\n",
    "\n",
    "    num_elements.append((decade, num_relative, num_absolute, num_skipped))\n",
    "\n",
    "    absolute_df = pd.DataFrame(absolute_list)\n",
    "    converted_df = pd.DataFrame(converted_list)\n",
    "    absolute_df.to_csv(f'./converted/{decade}_converted_absolute.csv')\n",
    "    converted_df.to_csv(f'./converted/{decade}_converted_relative.csv')\n",
    "\n",
    "print(f'Converted {len(decades)} files.')\n",
    "print('Decade / Relative / Absolute / Skipped')\n",
    "for decade in num_elements: print(decade)"
   ]
  },
  {
   "cell_type": "code",
   "execution_count": null,
   "metadata": {},
   "outputs": [],
   "source": []
  }
 ],
 "metadata": {
  "kernelspec": {
   "display_name": "Python 3.10.6 64-bit",
   "language": "python",
   "name": "python3"
  },
  "language_info": {
   "codemirror_mode": {
    "name": "ipython",
    "version": 3
   },
   "file_extension": ".py",
   "mimetype": "text/x-python",
   "name": "python",
   "nbconvert_exporter": "python",
   "pygments_lexer": "ipython3",
   "version": "3.10.6"
  },
  "orig_nbformat": 4,
  "vscode": {
   "interpreter": {
    "hash": "aee8b7b246df8f9039afb4144a1f6fd8d2ca17a180786b69acc140d282b71a49"
   }
  }
 },
 "nbformat": 4,
 "nbformat_minor": 2
}
