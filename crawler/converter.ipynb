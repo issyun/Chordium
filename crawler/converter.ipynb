{
 "cells": [
  {
   "cell_type": "code",
   "execution_count": 29,
   "metadata": {},
   "outputs": [],
   "source": [
    "import pandas as pd\n",
    "import math\n",
    "import ast"
   ]
  },
  {
   "cell_type": "code",
   "execution_count": 40,
   "metadata": {},
   "outputs": [],
   "source": [
    "note2number = {\n",
    "    'B#': 0,\n",
    "    'C': 0,\n",
    "    'C#': 1,\n",
    "    'Db': 1,\n",
    "    'D': 2,\n",
    "    'D#': 3,\n",
    "    'Eb': 3,\n",
    "    'E': 4,\n",
    "    'Fb': 4,\n",
    "    'E#': 5,\n",
    "    'F': 5,\n",
    "    'F#': 6,\n",
    "    'Gb': 6,\n",
    "    'G': 7,\n",
    "    'G#': 8,\n",
    "    'Ab': 8,\n",
    "    'A': 9,\n",
    "    'A#': 10,\n",
    "    'Bb': 10,\n",
    "    'B': 11,\n",
    "    'Cb': 11\n",
    "}\n",
    "\n",
    "def key2number(key):\n",
    "    tonic = 0\n",
    "    tonality = ''\n",
    "    if len(key) > 2: # e.g. C#m\n",
    "        tonality = 'min'\n",
    "        tonic = note2number[key[:2]]\n",
    "    elif len(key) == 2: # e.g. Dm or Db\n",
    "        if key in note2number: # e.g. Db\n",
    "            tonality = 'maj'\n",
    "            tonic = note2number[key]\n",
    "        else: # e.g. Dm\n",
    "            tonality = 'min'\n",
    "            tonic = note2number[key[:1]]\n",
    "    else: # e.g. C\n",
    "        tonality = 'maj'\n",
    "        tonic = note2number[key]\n",
    "    return tonic, tonality\n",
    "\n",
    "def chord2number(chord, tonic):\n",
    "    copy = chord\n",
    "\n",
    "    # convert root to number\n",
    "    root = 0\n",
    "    root_length = 0\n",
    "    if copy[:2] in note2number: root_length = 2 # e.g. C#\n",
    "    elif copy[:1] in note2number: root_length = 1 # e.g. C\n",
    "    root = note2number[copy[:root_length]]\n",
    "    root_relative = root - tonic + 12 if root - tonic < 0 else root - tonic\n",
    "    copy = str(root_relative) + copy[root_length:]\n",
    "\n",
    "    # check if slash chord\n",
    "    slash_index = 0\n",
    "    for index, char in enumerate(copy):\n",
    "        if char == '/': slash_index = index\n",
    "    \n",
    "    # convert if slash chord\n",
    "    if slash_index > 0:\n",
    "        slash_root = 0\n",
    "        slash_root_relative = 0\n",
    "        slash_root = note2number[copy[slash_index + 1:]]\n",
    "        slash_root_relative = slash_root - tonic + 12 if slash_root - tonic < 0 else slash_root - tonic\n",
    "        copy = copy[:slash_index + 1] + str(slash_root_relative)\n",
    "\n",
    "    return copy"
   ]
  },
  {
   "cell_type": "code",
   "execution_count": 28,
   "metadata": {},
   "outputs": [
    {
     "name": "stdout",
     "output_type": "stream",
     "text": [
      "True\n"
     ]
    }
   ],
   "source": [
    "import math\n",
    "csv = pd.read_csv('./1980.csv')\n",
    "\n",
    "for row in csv.itertuples(index = True):\n",
    "    tonic, tonality = key2number(row.key)\n",
    "    converted_lines = []\n",
    "    chords = ast.literal_eval(row.chords)\n",
    "    for line in chords:\n",
    "        converted_line = []\n",
    "        for chord in line:\n",
    "            # convert shit\n",
    "    break"
   ]
  },
  {
   "cell_type": "code",
   "execution_count": null,
   "metadata": {},
   "outputs": [],
   "source": []
  }
 ],
 "metadata": {
  "kernelspec": {
   "display_name": "Python 3.10.6 64-bit",
   "language": "python",
   "name": "python3"
  },
  "language_info": {
   "codemirror_mode": {
    "name": "ipython",
    "version": 3
   },
   "file_extension": ".py",
   "mimetype": "text/x-python",
   "name": "python",
   "nbconvert_exporter": "python",
   "pygments_lexer": "ipython3",
   "version": "3.10.6"
  },
  "orig_nbformat": 4,
  "vscode": {
   "interpreter": {
    "hash": "aee8b7b246df8f9039afb4144a1f6fd8d2ca17a180786b69acc140d282b71a49"
   }
  }
 },
 "nbformat": 4,
 "nbformat_minor": 2
}
